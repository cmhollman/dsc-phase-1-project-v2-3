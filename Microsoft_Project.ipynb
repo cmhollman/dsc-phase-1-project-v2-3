{
 "cells": [
  {
   "cell_type": "markdown",
   "metadata": {},
   "source": [
    "## Final Project Submission\n",
    "\n",
    "Please fill out:\n",
    "* Student name: Christopher Hollman\n",
    "* Student pace: Flex\n",
    "* Scheduled project review date/time: \n",
    "* Instructor name: Abhineet Kulkarni\n",
    "* Blog post URL: https://medium.com/@chollman91/daiquiris-dislocations-and-data-changing-careers-at-30-e8529dad5f97\n"
   ]
  },
  {
   "cell_type": "markdown",
   "metadata": {},
   "source": [
    "# Project Overview\n",
    " Microsoft has decided to venture into film making. They have chosen to use a data driven approach to ensure a successful entry into the industry. This project aims to look at existing data from recent films and develop a plan to\n",
    "maximize the profit and success of Microsoft's new production company. \n"
   ]
  },
  {
   "cell_type": "code",
   "execution_count": 1,
   "metadata": {
    "ExecuteTime": {
     "end_time": "2021-12-22T21:15:30.458333Z",
     "start_time": "2021-12-22T21:15:29.787007Z"
    }
   },
   "outputs": [],
   "source": [
    "##importing necessary tools\n",
    "import pandas as pd\n",
    "import seaborn as sns\n",
    "import numpy as np\n",
    "import os\n",
    "from glob import glob\n",
    "from datetime import datetime\n",
    "import matplotlib.pyplot as plt\n",
    "import matplotlib.ticker as mtick\n",
    "import matplotlib.patches as mpatches\n"
   ]
  },
  {
   "cell_type": "code",
   "execution_count": 2,
   "metadata": {
    "ExecuteTime": {
     "end_time": "2021-12-22T21:15:30.884358Z",
     "start_time": "2021-12-22T21:15:30.459889Z"
    },
    "scrolled": true
   },
   "outputs": [],
   "source": [
    "## importing files \n",
    "\n",
    "csv_files = glob(\"./zippedData/*.csv.gz\")\n",
    "csv_files\n",
    "\n",
    "csv_files_dict = {}\n",
    "for filename in csv_files:\n",
    "    filename_cleaned = os.path.basename(filename).replace(\".csv\", \"\").replace(\".\", \"_\")\n",
    "    filename_df = pd.read_csv(filename, index_col=0)\n",
    "    csv_files_dict[filename_cleaned] = filename_df\n",
    "rt_info = pd.read_csv(\"zippedData/rt.movie_info.tsv.gz\", delimiter='\\t')\n",
    "rt_reviews = pd.read_csv(\"zippedData/rt.reviews.tsv.gz\", delimiter='\\t',encoding=\"latin1\")\n",
    "imdb_title_basics = csv_files_dict[\"imdb_title_basics_gz\"]\n",
    "tn_movie_budgets = csv_files_dict[\"tn_movie_budgets_gz\"]"
   ]
  },
  {
   "cell_type": "code",
   "execution_count": 3,
   "metadata": {
    "ExecuteTime": {
     "end_time": "2021-12-22T21:15:30.932861Z",
     "start_time": "2021-12-22T21:15:30.885751Z"
    }
   },
   "outputs": [],
   "source": [
    "##merging datasets for interpretation\n",
    "\n",
    "rt_combined = rt_info.merge(rt_reviews, how=\"inner\",on=\"id\")\n",
    "title_and_budget = tn_movie_budgets.merge(\n",
    "    imdb_title_basics, how=\"inner\", left_on = \"movie\", right_on = \"primary_title\")\n"
   ]
  },
  {
   "cell_type": "markdown",
   "metadata": {},
   "source": [
    "## Rotten Tomatoes Data:\n",
    "This is the dataset we will use to determine which directors tend to generate positive reviews. Our main columns of interest are \"director\", \"top_critic\" and \"fresh\""
   ]
  },
  {
   "cell_type": "code",
   "execution_count": 4,
   "metadata": {
    "ExecuteTime": {
     "end_time": "2021-12-22T21:15:30.946375Z",
     "start_time": "2021-12-22T21:15:30.934100Z"
    },
    "scrolled": true
   },
   "outputs": [
    {
     "data": {
      "text/html": [
       "<div>\n",
       "<style scoped>\n",
       "    .dataframe tbody tr th:only-of-type {\n",
       "        vertical-align: middle;\n",
       "    }\n",
       "\n",
       "    .dataframe tbody tr th {\n",
       "        vertical-align: top;\n",
       "    }\n",
       "\n",
       "    .dataframe thead th {\n",
       "        text-align: right;\n",
       "    }\n",
       "</style>\n",
       "<table border=\"1\" class=\"dataframe\">\n",
       "  <thead>\n",
       "    <tr style=\"text-align: right;\">\n",
       "      <th></th>\n",
       "      <th>id</th>\n",
       "      <th>synopsis</th>\n",
       "      <th>rating_x</th>\n",
       "      <th>genre</th>\n",
       "      <th>director</th>\n",
       "      <th>writer</th>\n",
       "      <th>theater_date</th>\n",
       "      <th>dvd_date</th>\n",
       "      <th>currency</th>\n",
       "      <th>box_office</th>\n",
       "      <th>runtime</th>\n",
       "      <th>studio</th>\n",
       "      <th>review</th>\n",
       "      <th>rating_y</th>\n",
       "      <th>fresh</th>\n",
       "      <th>critic</th>\n",
       "      <th>top_critic</th>\n",
       "      <th>publisher</th>\n",
       "      <th>date</th>\n",
       "    </tr>\n",
       "  </thead>\n",
       "  <tbody>\n",
       "    <tr>\n",
       "      <th>0</th>\n",
       "      <td>3</td>\n",
       "      <td>New York City, not-too-distant-future: Eric Pa...</td>\n",
       "      <td>R</td>\n",
       "      <td>Drama|Science Fiction and Fantasy</td>\n",
       "      <td>David Cronenberg</td>\n",
       "      <td>David Cronenberg|Don DeLillo</td>\n",
       "      <td>Aug 17, 2012</td>\n",
       "      <td>Jan 1, 2013</td>\n",
       "      <td>$</td>\n",
       "      <td>600,000</td>\n",
       "      <td>108 minutes</td>\n",
       "      <td>Entertainment One</td>\n",
       "      <td>A distinctly gallows take on contemporary fina...</td>\n",
       "      <td>3/5</td>\n",
       "      <td>fresh</td>\n",
       "      <td>PJ Nabarro</td>\n",
       "      <td>0</td>\n",
       "      <td>Patrick Nabarro</td>\n",
       "      <td>November 10, 2018</td>\n",
       "    </tr>\n",
       "    <tr>\n",
       "      <th>1</th>\n",
       "      <td>3</td>\n",
       "      <td>New York City, not-too-distant-future: Eric Pa...</td>\n",
       "      <td>R</td>\n",
       "      <td>Drama|Science Fiction and Fantasy</td>\n",
       "      <td>David Cronenberg</td>\n",
       "      <td>David Cronenberg|Don DeLillo</td>\n",
       "      <td>Aug 17, 2012</td>\n",
       "      <td>Jan 1, 2013</td>\n",
       "      <td>$</td>\n",
       "      <td>600,000</td>\n",
       "      <td>108 minutes</td>\n",
       "      <td>Entertainment One</td>\n",
       "      <td>It's an allegory in search of a meaning that n...</td>\n",
       "      <td>NaN</td>\n",
       "      <td>rotten</td>\n",
       "      <td>Annalee Newitz</td>\n",
       "      <td>0</td>\n",
       "      <td>io9.com</td>\n",
       "      <td>May 23, 2018</td>\n",
       "    </tr>\n",
       "    <tr>\n",
       "      <th>2</th>\n",
       "      <td>3</td>\n",
       "      <td>New York City, not-too-distant-future: Eric Pa...</td>\n",
       "      <td>R</td>\n",
       "      <td>Drama|Science Fiction and Fantasy</td>\n",
       "      <td>David Cronenberg</td>\n",
       "      <td>David Cronenberg|Don DeLillo</td>\n",
       "      <td>Aug 17, 2012</td>\n",
       "      <td>Jan 1, 2013</td>\n",
       "      <td>$</td>\n",
       "      <td>600,000</td>\n",
       "      <td>108 minutes</td>\n",
       "      <td>Entertainment One</td>\n",
       "      <td>... life lived in a bubble in financial dealin...</td>\n",
       "      <td>NaN</td>\n",
       "      <td>fresh</td>\n",
       "      <td>Sean Axmaker</td>\n",
       "      <td>0</td>\n",
       "      <td>Stream on Demand</td>\n",
       "      <td>January 4, 2018</td>\n",
       "    </tr>\n",
       "    <tr>\n",
       "      <th>3</th>\n",
       "      <td>3</td>\n",
       "      <td>New York City, not-too-distant-future: Eric Pa...</td>\n",
       "      <td>R</td>\n",
       "      <td>Drama|Science Fiction and Fantasy</td>\n",
       "      <td>David Cronenberg</td>\n",
       "      <td>David Cronenberg|Don DeLillo</td>\n",
       "      <td>Aug 17, 2012</td>\n",
       "      <td>Jan 1, 2013</td>\n",
       "      <td>$</td>\n",
       "      <td>600,000</td>\n",
       "      <td>108 minutes</td>\n",
       "      <td>Entertainment One</td>\n",
       "      <td>Continuing along a line introduced in last yea...</td>\n",
       "      <td>NaN</td>\n",
       "      <td>fresh</td>\n",
       "      <td>Daniel Kasman</td>\n",
       "      <td>0</td>\n",
       "      <td>MUBI</td>\n",
       "      <td>November 16, 2017</td>\n",
       "    </tr>\n",
       "    <tr>\n",
       "      <th>4</th>\n",
       "      <td>3</td>\n",
       "      <td>New York City, not-too-distant-future: Eric Pa...</td>\n",
       "      <td>R</td>\n",
       "      <td>Drama|Science Fiction and Fantasy</td>\n",
       "      <td>David Cronenberg</td>\n",
       "      <td>David Cronenberg|Don DeLillo</td>\n",
       "      <td>Aug 17, 2012</td>\n",
       "      <td>Jan 1, 2013</td>\n",
       "      <td>$</td>\n",
       "      <td>600,000</td>\n",
       "      <td>108 minutes</td>\n",
       "      <td>Entertainment One</td>\n",
       "      <td>... a perverse twist on neorealism...</td>\n",
       "      <td>NaN</td>\n",
       "      <td>fresh</td>\n",
       "      <td>NaN</td>\n",
       "      <td>0</td>\n",
       "      <td>Cinema Scope</td>\n",
       "      <td>October 12, 2017</td>\n",
       "    </tr>\n",
       "  </tbody>\n",
       "</table>\n",
       "</div>"
      ],
      "text/plain": [
       "   id                                           synopsis rating_x  \\\n",
       "0   3  New York City, not-too-distant-future: Eric Pa...        R   \n",
       "1   3  New York City, not-too-distant-future: Eric Pa...        R   \n",
       "2   3  New York City, not-too-distant-future: Eric Pa...        R   \n",
       "3   3  New York City, not-too-distant-future: Eric Pa...        R   \n",
       "4   3  New York City, not-too-distant-future: Eric Pa...        R   \n",
       "\n",
       "                               genre          director  \\\n",
       "0  Drama|Science Fiction and Fantasy  David Cronenberg   \n",
       "1  Drama|Science Fiction and Fantasy  David Cronenberg   \n",
       "2  Drama|Science Fiction and Fantasy  David Cronenberg   \n",
       "3  Drama|Science Fiction and Fantasy  David Cronenberg   \n",
       "4  Drama|Science Fiction and Fantasy  David Cronenberg   \n",
       "\n",
       "                         writer  theater_date     dvd_date currency  \\\n",
       "0  David Cronenberg|Don DeLillo  Aug 17, 2012  Jan 1, 2013        $   \n",
       "1  David Cronenberg|Don DeLillo  Aug 17, 2012  Jan 1, 2013        $   \n",
       "2  David Cronenberg|Don DeLillo  Aug 17, 2012  Jan 1, 2013        $   \n",
       "3  David Cronenberg|Don DeLillo  Aug 17, 2012  Jan 1, 2013        $   \n",
       "4  David Cronenberg|Don DeLillo  Aug 17, 2012  Jan 1, 2013        $   \n",
       "\n",
       "  box_office      runtime             studio  \\\n",
       "0    600,000  108 minutes  Entertainment One   \n",
       "1    600,000  108 minutes  Entertainment One   \n",
       "2    600,000  108 minutes  Entertainment One   \n",
       "3    600,000  108 minutes  Entertainment One   \n",
       "4    600,000  108 minutes  Entertainment One   \n",
       "\n",
       "                                              review rating_y   fresh  \\\n",
       "0  A distinctly gallows take on contemporary fina...      3/5   fresh   \n",
       "1  It's an allegory in search of a meaning that n...      NaN  rotten   \n",
       "2  ... life lived in a bubble in financial dealin...      NaN   fresh   \n",
       "3  Continuing along a line introduced in last yea...      NaN   fresh   \n",
       "4             ... a perverse twist on neorealism...       NaN   fresh   \n",
       "\n",
       "           critic  top_critic         publisher               date  \n",
       "0      PJ Nabarro           0   Patrick Nabarro  November 10, 2018  \n",
       "1  Annalee Newitz           0           io9.com       May 23, 2018  \n",
       "2    Sean Axmaker           0  Stream on Demand    January 4, 2018  \n",
       "3   Daniel Kasman           0              MUBI  November 16, 2017  \n",
       "4             NaN           0      Cinema Scope   October 12, 2017  "
      ]
     },
     "execution_count": 4,
     "metadata": {},
     "output_type": "execute_result"
    }
   ],
   "source": [
    "rt_combined.head()"
   ]
  },
  {
   "cell_type": "markdown",
   "metadata": {},
   "source": [
    "## The Numbers/IMDB data:\n",
    "This is the dataset we will use to calculate financial numbers based on genre and release date. Our columns of interest should be relatively obvious."
   ]
  },
  {
   "cell_type": "code",
   "execution_count": 5,
   "metadata": {
    "ExecuteTime": {
     "end_time": "2021-12-22T21:15:30.953747Z",
     "start_time": "2021-12-22T21:15:30.947232Z"
    },
    "scrolled": true
   },
   "outputs": [
    {
     "data": {
      "text/html": [
       "<div>\n",
       "<style scoped>\n",
       "    .dataframe tbody tr th:only-of-type {\n",
       "        vertical-align: middle;\n",
       "    }\n",
       "\n",
       "    .dataframe tbody tr th {\n",
       "        vertical-align: top;\n",
       "    }\n",
       "\n",
       "    .dataframe thead th {\n",
       "        text-align: right;\n",
       "    }\n",
       "</style>\n",
       "<table border=\"1\" class=\"dataframe\">\n",
       "  <thead>\n",
       "    <tr style=\"text-align: right;\">\n",
       "      <th></th>\n",
       "      <th>release_date</th>\n",
       "      <th>movie</th>\n",
       "      <th>production_budget</th>\n",
       "      <th>domestic_gross</th>\n",
       "      <th>worldwide_gross</th>\n",
       "      <th>primary_title</th>\n",
       "      <th>original_title</th>\n",
       "      <th>start_year</th>\n",
       "      <th>runtime_minutes</th>\n",
       "      <th>genres</th>\n",
       "    </tr>\n",
       "  </thead>\n",
       "  <tbody>\n",
       "    <tr>\n",
       "      <th>0</th>\n",
       "      <td>Dec 18, 2009</td>\n",
       "      <td>Avatar</td>\n",
       "      <td>$425,000,000</td>\n",
       "      <td>$760,507,625</td>\n",
       "      <td>$2,776,345,279</td>\n",
       "      <td>Avatar</td>\n",
       "      <td>Abatâ</td>\n",
       "      <td>2011</td>\n",
       "      <td>93.0</td>\n",
       "      <td>Horror</td>\n",
       "    </tr>\n",
       "    <tr>\n",
       "      <th>1</th>\n",
       "      <td>May 20, 2011</td>\n",
       "      <td>Pirates of the Caribbean: On Stranger Tides</td>\n",
       "      <td>$410,600,000</td>\n",
       "      <td>$241,063,875</td>\n",
       "      <td>$1,045,663,875</td>\n",
       "      <td>Pirates of the Caribbean: On Stranger Tides</td>\n",
       "      <td>Pirates of the Caribbean: On Stranger Tides</td>\n",
       "      <td>2011</td>\n",
       "      <td>136.0</td>\n",
       "      <td>Action,Adventure,Fantasy</td>\n",
       "    </tr>\n",
       "    <tr>\n",
       "      <th>2</th>\n",
       "      <td>Jun 7, 2019</td>\n",
       "      <td>Dark Phoenix</td>\n",
       "      <td>$350,000,000</td>\n",
       "      <td>$42,762,350</td>\n",
       "      <td>$149,762,350</td>\n",
       "      <td>Dark Phoenix</td>\n",
       "      <td>Dark Phoenix</td>\n",
       "      <td>2019</td>\n",
       "      <td>113.0</td>\n",
       "      <td>Action,Adventure,Sci-Fi</td>\n",
       "    </tr>\n",
       "    <tr>\n",
       "      <th>3</th>\n",
       "      <td>May 1, 2015</td>\n",
       "      <td>Avengers: Age of Ultron</td>\n",
       "      <td>$330,600,000</td>\n",
       "      <td>$459,005,868</td>\n",
       "      <td>$1,403,013,963</td>\n",
       "      <td>Avengers: Age of Ultron</td>\n",
       "      <td>Avengers: Age of Ultron</td>\n",
       "      <td>2015</td>\n",
       "      <td>141.0</td>\n",
       "      <td>Action,Adventure,Sci-Fi</td>\n",
       "    </tr>\n",
       "    <tr>\n",
       "      <th>4</th>\n",
       "      <td>Apr 27, 2018</td>\n",
       "      <td>Avengers: Infinity War</td>\n",
       "      <td>$300,000,000</td>\n",
       "      <td>$678,815,482</td>\n",
       "      <td>$2,048,134,200</td>\n",
       "      <td>Avengers: Infinity War</td>\n",
       "      <td>Avengers: Infinity War</td>\n",
       "      <td>2018</td>\n",
       "      <td>149.0</td>\n",
       "      <td>Action,Adventure,Sci-Fi</td>\n",
       "    </tr>\n",
       "  </tbody>\n",
       "</table>\n",
       "</div>"
      ],
      "text/plain": [
       "   release_date                                        movie  \\\n",
       "0  Dec 18, 2009                                       Avatar   \n",
       "1  May 20, 2011  Pirates of the Caribbean: On Stranger Tides   \n",
       "2   Jun 7, 2019                                 Dark Phoenix   \n",
       "3   May 1, 2015                      Avengers: Age of Ultron   \n",
       "4  Apr 27, 2018                       Avengers: Infinity War   \n",
       "\n",
       "  production_budget domestic_gross worldwide_gross  \\\n",
       "0      $425,000,000   $760,507,625  $2,776,345,279   \n",
       "1      $410,600,000   $241,063,875  $1,045,663,875   \n",
       "2      $350,000,000    $42,762,350    $149,762,350   \n",
       "3      $330,600,000   $459,005,868  $1,403,013,963   \n",
       "4      $300,000,000   $678,815,482  $2,048,134,200   \n",
       "\n",
       "                                 primary_title  \\\n",
       "0                                       Avatar   \n",
       "1  Pirates of the Caribbean: On Stranger Tides   \n",
       "2                                 Dark Phoenix   \n",
       "3                      Avengers: Age of Ultron   \n",
       "4                       Avengers: Infinity War   \n",
       "\n",
       "                                original_title  start_year  runtime_minutes  \\\n",
       "0                                        Abatâ        2011             93.0   \n",
       "1  Pirates of the Caribbean: On Stranger Tides        2011            136.0   \n",
       "2                                 Dark Phoenix        2019            113.0   \n",
       "3                      Avengers: Age of Ultron        2015            141.0   \n",
       "4                       Avengers: Infinity War        2018            149.0   \n",
       "\n",
       "                     genres  \n",
       "0                    Horror  \n",
       "1  Action,Adventure,Fantasy  \n",
       "2   Action,Adventure,Sci-Fi  \n",
       "3   Action,Adventure,Sci-Fi  \n",
       "4   Action,Adventure,Sci-Fi  "
      ]
     },
     "execution_count": 5,
     "metadata": {},
     "output_type": "execute_result"
    }
   ],
   "source": [
    "title_and_budget.head()"
   ]
  },
  {
   "cell_type": "markdown",
   "metadata": {},
   "source": [
    "# Data Preparation:\n",
    "## Data Cleaning\n",
    "At this stage I began dropping rows that were not relevant the data I wanted to analyze."
   ]
  },
  {
   "cell_type": "code",
   "execution_count": 6,
   "metadata": {
    "ExecuteTime": {
     "end_time": "2021-12-22T21:15:30.984884Z",
     "start_time": "2021-12-22T21:15:30.954612Z"
    }
   },
   "outputs": [],
   "source": [
    "##Dropping irrelevant columns from Rotten Tomatoes data\n",
    "\n",
    "rt_combined.drop(columns = [\"synopsis\", \"theater_date\",\"dvd_date\", \"studio\",\n",
    "    \"runtime\",\"review\"], inplace=True)\n",
    "## dropping reviews not given by \"top critics\"\n",
    "rt_top_critics = rt_combined[rt_combined[\"top_critic\"] !=0].dropna()\n"
   ]
  },
  {
   "cell_type": "code",
   "execution_count": 7,
   "metadata": {
    "ExecuteTime": {
     "end_time": "2021-12-22T21:15:30.992684Z",
     "start_time": "2021-12-22T21:15:30.985799Z"
    }
   },
   "outputs": [],
   "source": [
    "##limiting new dataset to only 50 most reviewed directors\n",
    "\n",
    "directors_sorted = rt_combined[\"director\"].value_counts(ascending=False).to_frame()\n",
    "top_50_directors = directors_sorted[:50]\n",
    "\n",
    "top_50_directors = top_50_directors.reset_index().rename(\n",
    "    columns={\"index\":\"director\",\"director\":\"rating_count\"})"
   ]
  },
  {
   "cell_type": "code",
   "execution_count": 8,
   "metadata": {
    "ExecuteTime": {
     "end_time": "2021-12-22T21:15:31.005574Z",
     "start_time": "2021-12-22T21:15:30.994782Z"
    },
    "scrolled": true
   },
   "outputs": [],
   "source": [
    "##inner merge with original dataset\n",
    "##resulting dataset is complete data for top 60 directors\n",
    "\n",
    "top_directors_reviews = top_50_directors.merge(rt_top_critics)\n",
    "director_ratings = top_directors_reviews.groupby([\"director\",\"fresh\"]).count()\n",
    "director_ratings = director_ratings[\"rating_count\"].unstack(\"fresh\")\n",
    "\n",
    "##creating new columns for total ratings and percetages for fresh and rotten ratings\n",
    "director_ratings[\"review_total\"] = director_ratings[\n",
    "    'fresh'] + director_ratings['rotten']\n",
    "\n",
    "director_ratings[\"fresh_pct\"] = director_ratings[\"fresh\"]/director_ratings[\n",
    "    \"review_total\"]*100\n",
    "director_ratings[\"rotten_pct\"] = director_ratings[\"rotten\"]/director_ratings[\n",
    "    \"review_total\"]*100\n",
    "top_15_directors = director_ratings.sort_values(\"fresh_pct\", ascending=False)[:15]\n",
    "\n",
    "\n",
    "\n",
    "##creating list of top 15 director in terms of percentage of postive reviews\n",
    "\n",
    "top_15_directors = top_15_directors.sort_values('fresh_pct')"
   ]
  },
  {
   "cell_type": "code",
   "execution_count": 9,
   "metadata": {
    "ExecuteTime": {
     "end_time": "2021-12-22T21:15:31.009837Z",
     "start_time": "2021-12-22T21:15:31.007104Z"
    }
   },
   "outputs": [],
   "source": [
    "## dropping redundant and unneccessary columns from second data set\n",
    "\n",
    "title_and_budget.drop(columns=[\n",
    "    \"start_year\", \n",
    "    \"movie\", \n",
    "    \"original_title\"], inplace=True)"
   ]
  },
  {
   "cell_type": "code",
   "execution_count": 10,
   "metadata": {
    "ExecuteTime": {
     "end_time": "2021-12-22T21:15:31.021961Z",
     "start_time": "2021-12-22T21:15:31.010717Z"
    },
    "scrolled": true
   },
   "outputs": [],
   "source": [
    "##stripping characters and converting strings to integers \n",
    "\n",
    "title_and_budget[\"production_budget\"] = title_and_budget[\n",
    "    \"production_budget\"].str.replace(\"$\",\"\").str.replace(\",\",\"\").astype(int)\n",
    "\n",
    "title_and_budget[\"domestic_gross\"] = title_and_budget[\n",
    "    \"domestic_gross\"].str.replace(\"$\",\"\").str.replace(\",\",\"\").astype(int)\n",
    "\n",
    "title_and_budget[\"worldwide_gross\"] = title_and_budget[\n",
    "    \"worldwide_gross\"].str.replace(\"$\",\"\").str.replace(\",\",\"\").astype(int)\n"
   ]
  },
  {
   "cell_type": "code",
   "execution_count": 11,
   "metadata": {
    "ExecuteTime": {
     "end_time": "2021-12-22T21:15:31.025321Z",
     "start_time": "2021-12-22T21:15:31.022812Z"
    }
   },
   "outputs": [],
   "source": [
    "##filtering out production budgets below mean of dataset\n",
    "\n",
    "title_and_budget = title_and_budget[\n",
    "    title_and_budget[\"production_budget\"] >= 16_000_000]"
   ]
  },
  {
   "cell_type": "code",
   "execution_count": 12,
   "metadata": {
    "ExecuteTime": {
     "end_time": "2021-12-22T21:15:31.120458Z",
     "start_time": "2021-12-22T21:15:31.026188Z"
    },
    "scrolled": false
   },
   "outputs": [],
   "source": [
    "##converting release dats to datetime format and isolating month as ordered string\n",
    "months = [\"Jan\", \"Feb\", \"Mar\", \"Apr\",\"May\", \"Jun\", \"Jul\", \"Aug\", \"Sep\", \"Oct\", \"Nov\", \"Dec\"]\n",
    "title_and_budget[\"release_date\"] = pd.to_datetime(\n",
    "    title_and_budget[\"release_date\"])\n",
    "title_and_budget[\"release_month\"] = title_and_budget['release_date'].dt.strftime(\"%b\")\n",
    "title_and_budget[\"release_month\"] = pd.Categorical(\n",
    "    title_and_budget[\"release_month\"], ordered=True, categories=months)\n"
   ]
  },
  {
   "cell_type": "markdown",
   "metadata": {},
   "source": [
    "## Feature Engineering\n",
    "At this stage I create new columns for profit and ROI for the IMDB/The Numbers dataset. Some further data cleaning is needed to separate out individual genres."
   ]
  },
  {
   "cell_type": "code",
   "execution_count": 13,
   "metadata": {
    "ExecuteTime": {
     "end_time": "2021-12-22T21:15:31.123764Z",
     "start_time": "2021-12-22T21:15:31.121394Z"
    }
   },
   "outputs": [],
   "source": [
    "##new columns for profit and ROI\n",
    "\n",
    "title_and_budget[\"profit\"] = title_and_budget[\n",
    "    \"worldwide_gross\"] - title_and_budget[\"production_budget\"]\n",
    "\n",
    "title_and_budget[\"ROI\"] = title_and_budget[\n",
    "    \"profit\"]/title_and_budget[\"production_budget\"]*100\n"
   ]
  },
  {
   "cell_type": "code",
   "execution_count": 14,
   "metadata": {
    "ExecuteTime": {
     "end_time": "2021-12-22T21:15:31.128273Z",
     "start_time": "2021-12-22T21:15:31.124602Z"
    }
   },
   "outputs": [],
   "source": [
    "##dropping 0 values to avoid skewing data\n",
    "\n",
    "title_and_budget = title_and_budget[title_and_budget[\"production_budget\"] !=0]\n",
    "title_and_budget = title_and_budget[title_and_budget[\"domestic_gross\"] !=0]\n",
    "title_and_budget = title_and_budget[title_and_budget[\"worldwide_gross\"] !=0]"
   ]
  },
  {
   "cell_type": "code",
   "execution_count": 15,
   "metadata": {
    "ExecuteTime": {
     "end_time": "2021-12-22T21:15:31.131739Z",
     "start_time": "2021-12-22T21:15:31.129090Z"
    }
   },
   "outputs": [],
   "source": [
    "##converting genre from single string to list for further organization \n",
    "\n",
    "title_and_budget[\"genres\"] = title_and_budget[\"genres\"].str.split(\",\")"
   ]
  },
  {
   "cell_type": "code",
   "execution_count": 16,
   "metadata": {
    "ExecuteTime": {
     "end_time": "2021-12-22T21:15:31.139720Z",
     "start_time": "2021-12-22T21:15:31.132688Z"
    }
   },
   "outputs": [],
   "source": [
    "##exploding genres to calculate mean values for each genre\n",
    "\n",
    "title_budget_exploded = title_and_budget.explode(\"genres\")\n"
   ]
  },
  {
   "cell_type": "code",
   "execution_count": 17,
   "metadata": {
    "ExecuteTime": {
     "end_time": "2021-12-22T21:15:31.144259Z",
     "start_time": "2021-12-22T21:15:31.140569Z"
    }
   },
   "outputs": [
    {
     "data": {
      "text/plain": [
       "genres\n",
       "Drama          784\n",
       "Action         491\n",
       "Comedy         460\n",
       "Adventure      380\n",
       "Thriller       279\n",
       "Crime          212\n",
       "Documentary    200\n",
       "Romance        154\n",
       "Sci-Fi         139\n",
       "Fantasy        138\n",
       "Horror         136\n",
       "Biography      124\n",
       "Animation      119\n",
       "Family         108\n",
       "Mystery        105\n",
       "History         49\n",
       "Sport           36\n",
       "Music           32\n",
       "War             23\n",
       "Musical         17\n",
       "Western         13\n",
       "News             4\n",
       "dtype: int64"
      ]
     },
     "execution_count": 17,
     "metadata": {},
     "output_type": "execute_result"
    }
   ],
   "source": [
    "##checking for small sample sizes to exclude from list\n",
    "\n",
    "title_budget_exploded.value_counts(\"genres\")"
   ]
  },
  {
   "cell_type": "code",
   "execution_count": 18,
   "metadata": {
    "ExecuteTime": {
     "end_time": "2021-12-22T21:15:31.149810Z",
     "start_time": "2021-12-22T21:15:31.145127Z"
    }
   },
   "outputs": [],
   "source": [
    "##excluding genres with small sample sizes\n",
    "counts = title_budget_exploded[\"genres\"].value_counts()\n",
    "\n",
    "title_budget_exploded = title_budget_exploded[\n",
    "    ~title_budget_exploded[\"genres\"].isin(counts[counts < 50].index)]"
   ]
  },
  {
   "cell_type": "code",
   "execution_count": 19,
   "metadata": {
    "ExecuteTime": {
     "end_time": "2021-12-22T21:15:31.159471Z",
     "start_time": "2021-12-22T21:15:31.150883Z"
    }
   },
   "outputs": [],
   "source": [
    "##grouping values by genre and month for graphing\n",
    "genres_ROI = title_budget_exploded.groupby(\n",
    "    \"genres\").mean().sort_values(\"ROI\", ascending=False)\n",
    "\n",
    "genres_profit=title_budget_exploded.groupby(\n",
    "    \"genres\").mean().sort_values(\"profit\", ascending=False)\n",
    "\n",
    "months_grouped = title_and_budget.groupby(\n",
    "    \"release_month\").mean().sort_values(\"worldwide_gross\", ascending=False)\n",
    "months_grouped = months_grouped.filter(\n",
    "    [\"domestic_gross\",\"worldwide_gross\"], axis=1)\n"
   ]
  },
  {
   "cell_type": "markdown",
   "metadata": {
    "ExecuteTime": {
     "end_time": "2021-12-17T03:45:42.068267Z",
     "start_time": "2021-12-17T03:45:42.066160Z"
    }
   },
   "source": [
    "# Analysis:"
   ]
  },
  {
   "cell_type": "markdown",
   "metadata": {},
   "source": [
    "## Box Office Gross:\n",
    "The average film has a domestic gross of 70.9 million USD and a worldwide gross of 171.5 million. The highest earning films go as high as 114.1 million domestic gross and 293.6 million worldwide gross"
   ]
  },
  {
   "cell_type": "code",
   "execution_count": 20,
   "metadata": {
    "ExecuteTime": {
     "end_time": "2021-12-22T21:15:31.168283Z",
     "start_time": "2021-12-22T21:15:31.160335Z"
    },
    "scrolled": true
   },
   "outputs": [
    {
     "data": {
      "text/html": [
       "<div>\n",
       "<style scoped>\n",
       "    .dataframe tbody tr th:only-of-type {\n",
       "        vertical-align: middle;\n",
       "    }\n",
       "\n",
       "    .dataframe tbody tr th {\n",
       "        vertical-align: top;\n",
       "    }\n",
       "\n",
       "    .dataframe thead th {\n",
       "        text-align: right;\n",
       "    }\n",
       "</style>\n",
       "<table border=\"1\" class=\"dataframe\">\n",
       "  <thead>\n",
       "    <tr style=\"text-align: right;\">\n",
       "      <th></th>\n",
       "      <th>domestic_gross</th>\n",
       "      <th>worldwide_gross</th>\n",
       "    </tr>\n",
       "  </thead>\n",
       "  <tbody>\n",
       "    <tr>\n",
       "      <th>count</th>\n",
       "      <td>1.200000e+01</td>\n",
       "      <td>1.200000e+01</td>\n",
       "    </tr>\n",
       "    <tr>\n",
       "      <th>mean</th>\n",
       "      <td>7.090553e+07</td>\n",
       "      <td>1.715626e+08</td>\n",
       "    </tr>\n",
       "    <tr>\n",
       "      <th>std</th>\n",
       "      <td>2.831056e+07</td>\n",
       "      <td>7.558355e+07</td>\n",
       "    </tr>\n",
       "    <tr>\n",
       "      <th>min</th>\n",
       "      <td>3.629165e+07</td>\n",
       "      <td>7.779592e+07</td>\n",
       "    </tr>\n",
       "    <tr>\n",
       "      <th>25%</th>\n",
       "      <td>4.555140e+07</td>\n",
       "      <td>1.046154e+08</td>\n",
       "    </tr>\n",
       "    <tr>\n",
       "      <th>50%</th>\n",
       "      <td>6.691226e+07</td>\n",
       "      <td>1.590120e+08</td>\n",
       "    </tr>\n",
       "    <tr>\n",
       "      <th>75%</th>\n",
       "      <td>9.169611e+07</td>\n",
       "      <td>2.254495e+08</td>\n",
       "    </tr>\n",
       "    <tr>\n",
       "      <th>max</th>\n",
       "      <td>1.141824e+08</td>\n",
       "      <td>2.936119e+08</td>\n",
       "    </tr>\n",
       "  </tbody>\n",
       "</table>\n",
       "</div>"
      ],
      "text/plain": [
       "       domestic_gross  worldwide_gross\n",
       "count    1.200000e+01     1.200000e+01\n",
       "mean     7.090553e+07     1.715626e+08\n",
       "std      2.831056e+07     7.558355e+07\n",
       "min      3.629165e+07     7.779592e+07\n",
       "25%      4.555140e+07     1.046154e+08\n",
       "50%      6.691226e+07     1.590120e+08\n",
       "75%      9.169611e+07     2.254495e+08\n",
       "max      1.141824e+08     2.936119e+08"
      ]
     },
     "execution_count": 20,
     "metadata": {},
     "output_type": "execute_result"
    }
   ],
   "source": [
    "months_grouped.describe()"
   ]
  },
  {
   "cell_type": "markdown",
   "metadata": {},
   "source": [
    "## Plotting Release Date Data:\n",
    "Below is a graph of average domestic and worldwide gross earnings by month for movies made between 2010 and present day. As you can see particularly with worldwide earnings, there is a significant difference between the highest months and the lowest (roughly triple). Earnings tend to peak in May and stay high through July. There are secondary peaks in March and November/December. "
   ]
  },
  {
   "cell_type": "code",
   "execution_count": 21,
   "metadata": {
    "ExecuteTime": {
     "end_time": "2021-12-22T21:15:31.307419Z",
     "start_time": "2021-12-22T21:15:31.169131Z"
    },
    "scrolled": false
   },
   "outputs": [
    {
     "data": {
      "image/png": "[encoded data removed]",
      "text/plain": [
       "<Figure size 864x576 with 1 Axes>"
      ]
     },
     "metadata": {},
     "output_type": "display_data"
    }
   ],
   "source": [
    "##plotting average domestic and worldwide gross by month\n",
    "sns.set(rc={\"figure.figsize\":(12, 8)}) \n",
    "sns.set_theme(style=\"darkgrid\")\n",
    "x1 = sns.lineplot(data=months_grouped, palette=\"viridis\")\n",
    "x1.set(\n",
    "    xlabel=\"Release Month\",\n",
    "    ylabel=\"Box Office Gross (USD)\",\n",
    "    title=\"Average Box Office Gross by Month\")\n",
    "plt.legend(labels=[\"Domestic Gross\",\"Worldwide Gross\"])\n",
    ";\n",
    "x1.yaxis.set_major_formatter(\n",
    "    mtick.FuncFormatter(lambda x, pos: \"{:,.0f}\".format(x/1000000) + \"M\"))\n"
   ]
  },
  {
   "cell_type": "markdown",
   "metadata": {},
   "source": [
    "## Plotting ROI by  Genre:\n",
    "Below is a horizontal bar plot representing average return on investment(ROI) based on genre. The top categories are Animation, Fantasy, Family, Sci-Fi, and Adventure, which also make up the top 5 in profitability, albeit in a slightly different order. This suggests that focusing on these genres would tend to generate higher earnings. "
   ]
  },
  {
   "cell_type": "code",
   "execution_count": 22,
   "metadata": {
    "ExecuteTime": {
     "end_time": "2021-12-22T21:15:31.427341Z",
     "start_time": "2021-12-22T21:15:31.308287Z"
    },
    "scrolled": false
   },
   "outputs": [
    {
     "data": {
      "image/png": "[encoded data removed]",
      "text/plain": [
       "<Figure size 864x576 with 1 Axes>"
      ]
     },
     "metadata": {},
     "output_type": "display_data"
    }
   ],
   "source": [
    "##plotting average ROI of by genre\n",
    "\n",
    "sns.set(rc={\"figure.figsize\":(12, 8)}) \n",
    "sns.set_theme(style=\"darkgrid\")\n",
    "x2=sns.barplot(\n",
    "    y = genres_ROI.index, x=\"ROI\", \n",
    "    color = \"tab:blue\",\n",
    "    data = genres_ROI, orient=\"h\")\n",
    "x2.set(\n",
    "    ylabel=\"Genres\", title = \"ROI by Genre\")\n",
    "x2.xaxis.set_major_formatter(mtick.PercentFormatter());\n"
   ]
  },
  {
   "cell_type": "markdown",
   "metadata": {},
   "source": [
    "## Plotting Profit by Genre\n",
    "Next is a graph with somewhat similar findings. Action movies in particular perform better using this metric, but suffer from tending to have higher production cost, which is more emphasized in ROI. "
   ]
  },
  {
   "cell_type": "code",
   "execution_count": 23,
   "metadata": {
    "ExecuteTime": {
     "end_time": "2021-12-22T21:15:31.545369Z",
     "start_time": "2021-12-22T21:15:31.430604Z"
    },
    "scrolled": true
   },
   "outputs": [
    {
     "data": {
      "image/png": "[encoded data removed]",
      "text/plain": [
       "<Figure size 864x576 with 1 Axes>"
      ]
     },
     "metadata": {},
     "output_type": "display_data"
    }
   ],
   "source": [
    "##plotting average profit(worldwide gross-production budget) by genre\n",
    "sns.set(rc={\"figure.figsize\":(12, 8)})\n",
    "sns.set_style(\"darkgrid\")\n",
    "x3=sns.barplot(\n",
    "    y=genres_profit.index, \n",
    "    x=\"profit\",\n",
    "    color=\"tab:blue\",\n",
    "    data=genres_profit, \n",
    "    orient=\"h\")\n",
    "x3.set(\n",
    "    xlabel=\"Profit (USD)\",\n",
    "    ylabel=\"Genre\",\n",
    "    title=\"Profit by Genre\")\n",
    "x3.xaxis.set_major_formatter(\n",
    "    mtick.FuncFormatter(lambda x, pos: \"{:,.0f}\".format(x/1000000) + \"M\"));"
   ]
  },
  {
   "cell_type": "markdown",
   "metadata": {},
   "source": [
    "## Plotting Director Review Data:\n",
    "Finally here is a stacked bar plot depicting positive(\"Fresh\") and negative(\"Rotten\") reviews from top critics. The plot is currently ordered by highest ratio of fresh to rotten reviews, top to bottom. Any of these directors would be an excellent target to approach for Microsoft's movies, as the tend to generate to most positive sentiment from highly regarded film critics."
   ]
  },
  {
   "cell_type": "code",
   "execution_count": 24,
   "metadata": {
    "ExecuteTime": {
     "end_time": "2021-12-22T21:15:31.694032Z",
     "start_time": "2021-12-22T21:15:31.546409Z"
    }
   },
   "outputs": [
    {
     "data": {
      "text/plain": [
       "''"
      ]
     },
     "execution_count": 24,
     "metadata": {},
     "output_type": "execute_result"
    },
    {
     "data": {
      "image/png": "[encoded data removed]",
      "text/plain": [
       "<Figure size 864x576 with 1 Axes>"
      ]
     },
     "metadata": {},
     "output_type": "display_data"
    }
   ],
   "source": [
    "##plotting top 15 directors by # of \"fresh\" ratings per \"rotten\" rating\n",
    "sns.set(rc={\"figure.figsize\":(12, 8)})\n",
    "sns.set_style(\"darkgrid\")\n",
    "\n",
    "fig, ax = plt.subplots(figsize=(12, 8))\n",
    "ax.barh(\n",
    "    top_15_directors.index,\n",
    "    top_15_directors['fresh_pct'],\n",
    "    left=top_15_directors['rotten_pct'],\n",
    "    color='tab:blue'\n",
    "    )\n",
    "ax.barh(\n",
    "    top_15_directors.index,\n",
    "    top_15_directors['rotten_pct'],\n",
    "    color=\"tab:red\")\n",
    "\n",
    "ax=ax\n",
    "ax.set(\n",
    "    ylabel=\"Director\", xlabel=\"Rotten/Fresh Ratings\",\n",
    "    title=\"Most Liked Directors by Top RT Critics\")\n",
    "\n",
    "top_bar = mpatches.Patch(color='tab:blue', label='Positive Reviews')\n",
    "bottom_bar = mpatches.Patch(color='tab:red', label='Negative Reviews')\n",
    "\n",
    "plt.legend(handles=[top_bar, bottom_bar])\n",
    "\n",
    "ax.xaxis.set_major_formatter(mtick.PercentFormatter());\n",
    "\n",
    ";"
   ]
  },
  {
   "cell_type": "markdown",
   "metadata": {
    "ExecuteTime": {
     "end_time": "2021-12-06T22:16:59.966140Z",
     "start_time": "2021-12-06T22:16:59.952797Z"
    }
   },
   "source": [
    "## Conclusions:\n",
    "**This data points toward three suggestions for Microsoft as they prepare for entry into the film industry.**\n",
    "\n",
    "1) Focus on films that fall into the more lucrative genres. \n",
    "\n",
    "2) Approach one of the top 15 directors to produce films.\n",
    "\n",
    "3) Release high budget movies in May through July. Smaller budget films could also be released in March or November.\n",
    "    "
   ]
  },
  {
   "cell_type": "markdown",
   "metadata": {},
   "source": [
    "# Next Steps:\n",
    "1) Further insight into secondary film earnings, such as popularity on streaming services. This would lead to a clearer picture of a films overall profitability.\n",
    "\n",
    "2) Similar analysis of writers and actors. Small tweaks to the code could generate a list of other film professionals that are likely to generate positive reviews from top critics.\n",
    "\n",
    "3) A focused study on films that performed poorly. This could uncover some trends and give insight on what to avoid in order to maintain a profitable studio with a reputation for producing quality films."
   ]
  }
 ],
 "metadata": {
  "kernelspec": {
   "display_name": "Python 3",
   "language": "python",
   "name": "python3"
  },
  "language_info": {
   "codemirror_mode": {
    "name": "ipython",
    "version": 3
   },
   "file_extension": ".py",
   "mimetype": "text/x-python",
   "name": "python",
   "nbconvert_exporter": "python",
   "pygments_lexer": "ipython3",
   "version": "3.8.5"
  }
 },
 "nbformat": 4,
 "nbformat_minor": 2
}
