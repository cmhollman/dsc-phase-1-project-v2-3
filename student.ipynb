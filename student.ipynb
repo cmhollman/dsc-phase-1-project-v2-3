{
 "cells": [
  {
   "cell_type": "markdown",
   "metadata": {},
   "source": [
    "## Final Project Submission\n",
    "\n",
    "Please fill out:\n",
    "* Student name: Christopher Hollman\n",
    "* Student pace: self paced\n",
    "* Scheduled project review date/time: \n",
    "* Instructor name: \n",
    "* Blog post URL:\n"
   ]
  },
  {
   "cell_type": "code",
   "execution_count": 7,
   "metadata": {
    "ExecuteTime": {
     "end_time": "2021-12-11T03:08:59.145304Z",
     "start_time": "2021-12-11T03:08:59.140971Z"
    }
   },
   "outputs": [],
   "source": [
    "##importing necessary tools\n",
    "\n",
    "import pandas as pd\n",
    "import seaborn as sns\n",
    "import numpy as np\n",
    "import os\n",
    "from glob import glob\n",
    "from datetime import datetime"
   ]
  },
  {
   "cell_type": "code",
   "execution_count": 9,
   "metadata": {
    "ExecuteTime": {
     "end_time": "2021-12-11T03:09:08.586533Z",
     "start_time": "2021-12-11T03:09:05.607069Z"
    },
    "scrolled": true
   },
   "outputs": [],
   "source": [
    "## importing files \n",
    "\n",
    "csv_files = glob(\"./zippedData/*.csv.gz\")\n",
    "csv_files\n",
    "\n",
    "csv_files_dict = {}\n",
    "for filename in csv_files:\n",
    "    filename_cleaned = os.path.basename(filename).replace(\".csv\", \"\").replace(\".\", \"_\")\n",
    "    filename_df = pd.read_csv(filename, index_col=0)\n",
    "    csv_files_dict[filename_cleaned] = filename_df\n",
    "rt_info = pd.read_csv(\"zippedData/rt.movie_info.tsv.gz\", delimiter='\\t')\n",
    "rt_reviews = pd.read_csv(\"zippedData/rt.reviews.tsv.gz\", delimiter='\\t',encoding='latin1')\n",
    "imdb_title_basics = csv_files_dict['imdb_title_basics_gz']\n",
    "tn_movie_budgets = csv_files_dict['tn_movie_budgets_gz']\n",
    "imdb_title_ratings = csv_files_dict['imdb_title_ratings_gz']\n",
    "\n"
   ]
  },
  {
   "cell_type": "code",
   "execution_count": 13,
   "metadata": {
    "ExecuteTime": {
     "end_time": "2021-12-11T03:09:22.959504Z",
     "start_time": "2021-12-11T03:09:22.813090Z"
    }
   },
   "outputs": [],
   "source": [
    "##merging datasets for interpretation\n",
    "\n",
    "rt_combined = rt_info.merge(rt_reviews, how='inner',on='id')\n",
    "title_and_rating_df = imdb_title_ratings.join(imdb_title_basics, how = 'inner')\n",
    "title_and_budget = tn_movie_budgets.merge(\n",
    "imdb_title_basics, how='inner', left_on = 'movie', right_on = 'primary_title')"
   ]
  },
  {
   "cell_type": "code",
   "execution_count": 14,
   "metadata": {
    "ExecuteTime": {
     "end_time": "2021-12-11T03:09:25.485211Z",
     "start_time": "2021-12-11T03:09:25.424450Z"
    }
   },
   "outputs": [],
   "source": [
    "## combining rotten tomatoes datasets, dropping irrelevant columns\n",
    "\n",
    "rt_combined.drop(columns = ['synopsis', 'theater_date','dvd_date', 'studio',\n",
    "'runtime','review'], inplace=True)\n",
    "\n",
    "## dropping reviews not given by \"top critics\"\n",
    "rt_top_critics = rt_combined[rt_combined['top_critic'] !=0].dropna()\n"
   ]
  },
  {
   "cell_type": "code",
   "execution_count": null,
   "metadata": {
    "ExecuteTime": {
     "end_time": "2021-12-11T02:50:46.622621Z",
     "start_time": "2021-12-11T02:50:46.611669Z"
    }
   },
   "outputs": [],
   "source": []
  },
  {
   "cell_type": "code",
   "execution_count": 17,
   "metadata": {
    "ExecuteTime": {
     "end_time": "2021-12-11T03:09:33.897496Z",
     "start_time": "2021-12-11T03:09:33.874574Z"
    }
   },
   "outputs": [],
   "source": [
    "##limiting new dataset to only 60 most reviewed directors\n",
    "\n",
    "directors_sorted = rt_combined['director'].value_counts(ascending=False).to_frame()\n",
    "top_60_directors = directors_sorted[:60]\n",
    "\n",
    "top_60_directors = top_60_directors.reset_index().rename(\n",
    "columns={'index':'director','director':'rating_count'})"
   ]
  },
  {
   "cell_type": "code",
   "execution_count": 18,
   "metadata": {
    "ExecuteTime": {
     "end_time": "2021-12-11T03:09:42.052561Z",
     "start_time": "2021-12-11T03:09:42.023482Z"
    },
    "scrolled": true
   },
   "outputs": [],
   "source": [
    "##inner merge with original dataset\n",
    "##resulting dataset is complete data for top 60 directors\n",
    "\n",
    "top_directors_reviews = top_60_directors.merge(rt_top_critics)\n",
    "director_ratings = top_directors_reviews.groupby(['director','fresh']).count()\n",
    "director_ratings = director_ratings['rating_count'].unstack('fresh')\n",
    "\n",
    "##creating new column for # of fresh ratings per rotten rating\n",
    "\n",
    "director_ratings['fresh/rotten'] = director_ratings[\n",
    "'fresh']/director_ratings['rotten']\n",
    "\n",
    "##creating list of top 15 director is terms of positive reviews \n",
    "\n",
    "top_15_directors = director_ratings.sort_values(\n",
    "'fresh/rotten', ascending=False)[0:15]\n"
   ]
  },
  {
   "cell_type": "code",
   "execution_count": null,
   "metadata": {},
   "outputs": [],
   "source": []
  },
  {
   "cell_type": "code",
   "execution_count": 36,
   "metadata": {
    "ExecuteTime": {
     "end_time": "2021-12-11T02:54:12.907402Z",
     "start_time": "2021-12-11T02:54:12.904495Z"
    }
   },
   "outputs": [],
   "source": [
    "## dropping redundant and unneccessary columns from second data set\n",
    "\n",
    "title_and_budget.drop(columns=[\n",
    "'start_year', \n",
    "'movie', \n",
    "'original_title'], inplace=True)"
   ]
  },
  {
   "cell_type": "code",
   "execution_count": 37,
   "metadata": {
    "ExecuteTime": {
     "end_time": "2021-12-11T02:54:12.920170Z",
     "start_time": "2021-12-11T02:54:12.908644Z"
    },
    "scrolled": true
   },
   "outputs": [],
   "source": [
    "##stripping characters and converting strings to integars \n",
    "\n",
    "title_and_budget['production_budget'] = title_and_budget[\n",
    "'production_budget'].str.replace(\"$\",\"\").str.replace(\",\",\"\").astype(int)\n",
    "\n",
    "title_and_budget['domestic_gross'] = title_and_budget[\n",
    "'domestic_gross'].str.replace(\"$\",\"\").str.replace(\",\",\"\").astype(int)\n",
    "\n",
    "title_and_budget['worldwide_gross'] = title_and_budget[\n",
    "'worldwide_gross'].str.replace(\"$\",\"\").str.replace(\",\",\"\").astype(int)\n"
   ]
  },
  {
   "cell_type": "code",
   "execution_count": 38,
   "metadata": {
    "ExecuteTime": {
     "end_time": "2021-12-11T02:54:12.929405Z",
     "start_time": "2021-12-11T02:54:12.921051Z"
    }
   },
   "outputs": [],
   "source": [
    "##filtering out production budgets below mean of dataset\n",
    "\n",
    "title_and_budget = title_and_budget[\n",
    "title_and_budget['production_budget'] >= 16000000]"
   ]
  },
  {
   "cell_type": "code",
   "execution_count": 39,
   "metadata": {
    "ExecuteTime": {
     "end_time": "2021-12-11T02:54:13.159716Z",
     "start_time": "2021-12-11T02:54:13.048822Z"
    }
   },
   "outputs": [],
   "source": [
    "##converting release dats to datetime format and isolating month\n",
    "\n",
    "title_and_budget['release_date'] = pd.to_datetime(\n",
    "title_and_budget['release_date'])\n",
    "title_and_budget['release_month'] = title_and_budget['release_date'].dt.month"
   ]
  },
  {
   "cell_type": "code",
   "execution_count": 40,
   "metadata": {
    "ExecuteTime": {
     "end_time": "2021-12-11T02:54:13.220292Z",
     "start_time": "2021-12-11T02:54:13.216749Z"
    }
   },
   "outputs": [],
   "source": [
    "##new columns for profit and ROI\n",
    "\n",
    "title_and_budget['profit'] = title_and_budget[\n",
    "'worldwide_gross'] - title_and_budget['production_budget']\n",
    "\n",
    "title_and_budget['ROI'] = title_and_budget[\n",
    "'profit']/title_and_budget['production_budget']\n",
    "\n",
    "    \n"
   ]
  },
  {
   "cell_type": "code",
   "execution_count": 41,
   "metadata": {
    "ExecuteTime": {
     "end_time": "2021-12-11T02:54:13.443368Z",
     "start_time": "2021-12-11T02:54:13.430840Z"
    }
   },
   "outputs": [],
   "source": [
    "##dropping 0 values to avoid skewing data\n",
    "\n",
    "title_and_budget = title_and_budget[title_and_budget['production_budget'] !=0]\n",
    "title_and_budget = title_and_budget[title_and_budget['domestic_gross'] !=0]\n",
    "title_and_budget = title_and_budget[title_and_budget['worldwide_gross'] !=0]"
   ]
  },
  {
   "cell_type": "code",
   "execution_count": 42,
   "metadata": {
    "ExecuteTime": {
     "end_time": "2021-12-11T02:54:13.629899Z",
     "start_time": "2021-12-11T02:54:13.614769Z"
    }
   },
   "outputs": [],
   "source": [
    "##converting genre from string to list for further organzation \n",
    "\n",
    "title_and_budget['genres'] = title_and_budget['genres'].str.split(\",\")"
   ]
  },
  {
   "cell_type": "code",
   "execution_count": 43,
   "metadata": {
    "ExecuteTime": {
     "end_time": "2021-12-11T02:54:13.848990Z",
     "start_time": "2021-12-11T02:54:13.823360Z"
    }
   },
   "outputs": [],
   "source": [
    "##exploding genres for calculating mean values for each genre\n",
    "\n",
    "title_budget_exploded = title_and_budget.explode('genres')\n"
   ]
  },
  {
   "cell_type": "code",
   "execution_count": 44,
   "metadata": {
    "ExecuteTime": {
     "end_time": "2021-12-11T02:54:14.071546Z",
     "start_time": "2021-12-11T02:54:14.049542Z"
    }
   },
   "outputs": [],
   "source": [
    "##grouping values by genre and month for graphing\n",
    "genres_grouped = title_budget_exploded.groupby(\n",
    "'genres').mean().sort_values('ROI', ascending=False)\n",
    "\n",
    "months_grouped = title_and_budget.groupby(\n",
    "'release_month').mean().sort_values('worldwide_gross', ascending=False)"
   ]
  },
  {
   "cell_type": "code",
   "execution_count": null,
   "metadata": {
    "ExecuteTime": {
     "end_time": "2021-12-11T02:54:15.073496Z",
     "start_time": "2021-12-11T02:54:15.051927Z"
    }
   },
   "outputs": [],
   "source": []
  },
  {
   "cell_type": "code",
   "execution_count": null,
   "metadata": {
    "ExecuteTime": {
     "end_time": "2021-12-11T02:27:00.823857Z",
     "start_time": "2021-12-11T02:27:00.802227Z"
    }
   },
   "outputs": [],
   "source": []
  },
  {
   "cell_type": "code",
   "execution_count": null,
   "metadata": {
    "ExecuteTime": {
     "end_time": "2021-12-07T15:13:19.671193Z",
     "start_time": "2021-12-07T15:13:19.537127Z"
    }
   },
   "outputs": [],
   "source": []
  },
  {
   "cell_type": "code",
   "execution_count": null,
   "metadata": {
    "ExecuteTime": {
     "end_time": "2021-12-07T15:44:32.790148Z",
     "start_time": "2021-12-07T15:44:32.736403Z"
    }
   },
   "outputs": [],
   "source": []
  },
  {
   "cell_type": "code",
   "execution_count": null,
   "metadata": {
    "ExecuteTime": {
     "end_time": "2021-12-07T15:11:42.413920Z",
     "start_time": "2021-12-07T15:11:42.385868Z"
    }
   },
   "outputs": [],
   "source": []
  },
  {
   "cell_type": "code",
   "execution_count": null,
   "metadata": {
    "ExecuteTime": {
     "end_time": "2021-12-06T19:37:29.779347Z",
     "start_time": "2021-12-06T19:37:29.757425Z"
    }
   },
   "outputs": [],
   "source": []
  },
  {
   "cell_type": "code",
   "execution_count": null,
   "metadata": {
    "ExecuteTime": {
     "end_time": "2021-12-06T22:16:59.966140Z",
     "start_time": "2021-12-06T22:16:59.952797Z"
    }
   },
   "outputs": [],
   "source": []
  },
  {
   "cell_type": "code",
   "execution_count": null,
   "metadata": {},
   "outputs": [],
   "source": []
  }
 ],
 "metadata": {
  "kernelspec": {
   "display_name": "Python 3",
   "language": "python",
   "name": "python3"
  },
  "language_info": {
   "codemirror_mode": {
    "name": "ipython",
    "version": 3
   },
   "file_extension": ".py",
   "mimetype": "text/x-python",
   "name": "python",
   "nbconvert_exporter": "python",
   "pygments_lexer": "ipython3",
   "version": "3.8.5"
  }
 },
 "nbformat": 4,
 "nbformat_minor": 2
}
