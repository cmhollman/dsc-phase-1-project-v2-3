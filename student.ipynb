{
 "cells": [
  {
   "cell_type": "markdown",
   "metadata": {},
   "source": [
    "## Final Project Submission\n",
    "\n",
    "Please fill out:\n",
    "* Student name: Christopher Hollman\n",
    "* Student pace: self paced\n",
    "* Scheduled project review date/time: \n",
    "* Instructor name: \n",
    "* Blog post URL:\n"
   ]
  },
  {
   "cell_type": "code",
   "execution_count": 159,
   "metadata": {
    "ExecuteTime": {
     "end_time": "2021-12-12T00:21:49.996854Z",
     "start_time": "2021-12-12T00:21:49.992239Z"
    }
   },
   "outputs": [],
   "source": [
    "##importing necessary tools\n",
    "\n",
    "import pandas as pd\n",
    "import seaborn as sns\n",
    "import numpy as np\n",
    "import os\n",
    "from glob import glob\n",
    "from datetime import datetime"
   ]
  },
  {
   "cell_type": "code",
   "execution_count": 160,
   "metadata": {
    "ExecuteTime": {
     "end_time": "2021-12-12T00:21:53.842815Z",
     "start_time": "2021-12-12T00:21:50.491570Z"
    },
    "scrolled": true
   },
   "outputs": [],
   "source": [
    "## importing files \n",
    "\n",
    "csv_files = glob(\"./zippedData/*.csv.gz\")\n",
    "csv_files\n",
    "\n",
    "csv_files_dict = {}\n",
    "for filename in csv_files:\n",
    "    filename_cleaned = os.path.basename(filename).replace(\".csv\", \"\").replace(\".\", \"_\")\n",
    "    filename_df = pd.read_csv(filename, index_col=0)\n",
    "    csv_files_dict[filename_cleaned] = filename_df\n",
    "rt_info = pd.read_csv(\"zippedData/rt.movie_info.tsv.gz\", delimiter='\\t')\n",
    "rt_reviews = pd.read_csv(\"zippedData/rt.reviews.tsv.gz\", delimiter='\\t',encoding='latin1')\n",
    "imdb_title_basics = csv_files_dict['imdb_title_basics_gz']\n",
    "tn_movie_budgets = csv_files_dict['tn_movie_budgets_gz']\n",
    "imdb_title_ratings = csv_files_dict['imdb_title_ratings_gz']\n",
    "\n"
   ]
  },
  {
   "cell_type": "code",
   "execution_count": 161,
   "metadata": {
    "ExecuteTime": {
     "end_time": "2021-12-12T00:21:53.964587Z",
     "start_time": "2021-12-12T00:21:53.844117Z"
    }
   },
   "outputs": [],
   "source": [
    "##merging datasets for interpretation\n",
    "\n",
    "rt_combined = rt_info.merge(rt_reviews, how='inner',on='id')\n",
    "title_and_rating_df = imdb_title_ratings.join(imdb_title_basics, how = 'inner')\n",
    "title_and_budget = tn_movie_budgets.merge(\n",
    "imdb_title_basics, how='inner', left_on = 'movie', right_on = 'primary_title')"
   ]
  },
  {
   "cell_type": "code",
   "execution_count": 162,
   "metadata": {
    "ExecuteTime": {
     "end_time": "2021-12-12T00:21:53.990507Z",
     "start_time": "2021-12-12T00:21:53.965918Z"
    }
   },
   "outputs": [],
   "source": [
    "## combining rotten tomatoes datasets, dropping irrelevant columns\n",
    "\n",
    "rt_combined.drop(columns = ['synopsis', 'theater_date','dvd_date', 'studio',\n",
    "'runtime','review'], inplace=True)\n",
    "\n",
    "## dropping reviews not given by \"top critics\"\n",
    "rt_top_critics = rt_combined[rt_combined['top_critic'] !=0].dropna()\n"
   ]
  },
  {
   "cell_type": "code",
   "execution_count": 163,
   "metadata": {
    "ExecuteTime": {
     "end_time": "2021-12-12T00:21:53.998515Z",
     "start_time": "2021-12-12T00:21:53.991714Z"
    }
   },
   "outputs": [],
   "source": [
    "##limiting new dataset to only 50 most reviewed directors\n",
    "\n",
    "directors_sorted = rt_combined['director'].value_counts(ascending=False).to_frame()\n",
    "top_50_directors = directors_sorted[:50]\n",
    "\n",
    "top_50_directors = top_50_directors.reset_index().rename(\n",
    "columns={'index':'director','director':'rating_count'})"
   ]
  },
  {
   "cell_type": "code",
   "execution_count": 164,
   "metadata": {
    "ExecuteTime": {
     "end_time": "2021-12-12T00:21:54.008527Z",
     "start_time": "2021-12-12T00:21:53.999443Z"
    },
    "scrolled": true
   },
   "outputs": [],
   "source": [
    "##inner merge with original dataset\n",
    "##resulting dataset is complete data for top 60 directors\n",
    "\n",
    "top_directors_reviews = top_50_directors.merge(rt_top_critics)\n",
    "director_ratings = top_directors_reviews.groupby(['director','fresh']).count()\n",
    "director_ratings = director_ratings['rating_count'].unstack('fresh')\n",
    "\n",
    "##creating new column for # of fresh ratings per rotten rating\n",
    "\n",
    "director_ratings['fresh/rotten'] = director_ratings[\n",
    "'fresh']/director_ratings['rotten']\n",
    "\n",
    "##creating list of top 15 director is terms of positive reviews \n",
    "\n",
    "top_15_directors = director_ratings.sort_values(\n",
    "'fresh/rotten', ascending=False)[0:15]\n"
   ]
  },
  {
   "cell_type": "code",
   "execution_count": null,
   "metadata": {},
   "outputs": [],
   "source": []
  },
  {
   "cell_type": "code",
   "execution_count": 165,
   "metadata": {
    "ExecuteTime": {
     "end_time": "2021-12-12T00:21:54.012730Z",
     "start_time": "2021-12-12T00:21:54.009402Z"
    }
   },
   "outputs": [],
   "source": [
    "## dropping redundant and unneccessary columns from second data set\n",
    "\n",
    "title_and_budget.drop(columns=[\n",
    "'start_year', \n",
    "'movie', \n",
    "'original_title'], inplace=True)"
   ]
  },
  {
   "cell_type": "code",
   "execution_count": 166,
   "metadata": {
    "ExecuteTime": {
     "end_time": "2021-12-12T00:21:54.025030Z",
     "start_time": "2021-12-12T00:21:54.013637Z"
    },
    "scrolled": true
   },
   "outputs": [],
   "source": [
    "##stripping characters and converting strings to integars \n",
    "\n",
    "title_and_budget['production_budget'] = title_and_budget[\n",
    "'production_budget'].str.replace(\"$\",\"\").str.replace(\",\",\"\").astype(int)\n",
    "\n",
    "title_and_budget['domestic_gross'] = title_and_budget[\n",
    "'domestic_gross'].str.replace(\"$\",\"\").str.replace(\",\",\"\").astype(int)\n",
    "\n",
    "title_and_budget['worldwide_gross'] = title_and_budget[\n",
    "'worldwide_gross'].str.replace(\"$\",\"\").str.replace(\",\",\"\").astype(int)\n"
   ]
  },
  {
   "cell_type": "code",
   "execution_count": 167,
   "metadata": {
    "ExecuteTime": {
     "end_time": "2021-12-12T00:21:54.030378Z",
     "start_time": "2021-12-12T00:21:54.027087Z"
    }
   },
   "outputs": [],
   "source": [
    "##filtering out production budgets below mean of dataset\n",
    "\n",
    "title_and_budget = title_and_budget[\n",
    "title_and_budget['production_budget'] >= 16000000]"
   ]
  },
  {
   "cell_type": "code",
   "execution_count": 168,
   "metadata": {
    "ExecuteTime": {
     "end_time": "2021-12-12T00:21:54.144173Z",
     "start_time": "2021-12-12T00:21:54.050598Z"
    }
   },
   "outputs": [],
   "source": [
    "##converting release dats to datetime format and isolating month\n",
    "\n",
    "title_and_budget['release_date'] = pd.to_datetime(\n",
    "title_and_budget['release_date'])\n",
    "title_and_budget['release_month'] = title_and_budget['release_date'].dt.month"
   ]
  },
  {
   "cell_type": "code",
   "execution_count": 169,
   "metadata": {
    "ExecuteTime": {
     "end_time": "2021-12-12T00:21:54.436590Z",
     "start_time": "2021-12-12T00:21:54.426535Z"
    }
   },
   "outputs": [],
   "source": [
    "##new columns for profit and ROI\n",
    "\n",
    "title_and_budget['profit'] = title_and_budget[\n",
    "'worldwide_gross'] - title_and_budget['production_budget']\n",
    "\n",
    "title_and_budget['ROI'] = title_and_budget[\n",
    "'profit']/title_and_budget['production_budget']\n",
    "\n",
    "    \n"
   ]
  },
  {
   "cell_type": "code",
   "execution_count": 170,
   "metadata": {
    "ExecuteTime": {
     "end_time": "2021-12-12T00:21:54.818936Z",
     "start_time": "2021-12-12T00:21:54.805380Z"
    }
   },
   "outputs": [],
   "source": [
    "##dropping 0 values to avoid skewing data\n",
    "\n",
    "title_and_budget = title_and_budget[title_and_budget['production_budget'] !=0]\n",
    "title_and_budget = title_and_budget[title_and_budget['domestic_gross'] !=0]\n",
    "title_and_budget = title_and_budget[title_and_budget['worldwide_gross'] !=0]"
   ]
  },
  {
   "cell_type": "code",
   "execution_count": 171,
   "metadata": {
    "ExecuteTime": {
     "end_time": "2021-12-12T00:21:55.164373Z",
     "start_time": "2021-12-12T00:21:55.152270Z"
    }
   },
   "outputs": [],
   "source": [
    "##converting genre from string to list for further organzation \n",
    "\n",
    "title_and_budget['genres'] = title_and_budget['genres'].str.split(\",\")"
   ]
  },
  {
   "cell_type": "code",
   "execution_count": 172,
   "metadata": {
    "ExecuteTime": {
     "end_time": "2021-12-12T00:21:55.527672Z",
     "start_time": "2021-12-12T00:21:55.502311Z"
    }
   },
   "outputs": [],
   "source": [
    "##exploding genres for calculating mean values for each genre\n",
    "\n",
    "title_budget_exploded = title_and_budget.explode('genres')\n"
   ]
  },
  {
   "cell_type": "code",
   "execution_count": 173,
   "metadata": {
    "ExecuteTime": {
     "end_time": "2021-12-12T00:21:55.886573Z",
     "start_time": "2021-12-12T00:21:55.870510Z"
    }
   },
   "outputs": [
    {
     "data": {
      "text/plain": [
       "genres\n",
       "Drama          784\n",
       "Action         491\n",
       "Comedy         460\n",
       "Adventure      380\n",
       "Thriller       279\n",
       "Crime          212\n",
       "Documentary    200\n",
       "Romance        154\n",
       "Sci-Fi         139\n",
       "Fantasy        138\n",
       "Horror         136\n",
       "Biography      124\n",
       "Animation      119\n",
       "Family         108\n",
       "Mystery        105\n",
       "History         49\n",
       "Sport           36\n",
       "Music           32\n",
       "War             23\n",
       "Musical         17\n",
       "Western         13\n",
       "News             4\n",
       "dtype: int64"
      ]
     },
     "execution_count": 173,
     "metadata": {},
     "output_type": "execute_result"
    }
   ],
   "source": [
    "##checking for small sample sizes to exclude from list\n",
    "\n",
    "title_budget_exploded.value_counts('genres')"
   ]
  },
  {
   "cell_type": "code",
   "execution_count": 174,
   "metadata": {
    "ExecuteTime": {
     "end_time": "2021-12-12T00:21:56.226879Z",
     "start_time": "2021-12-12T00:21:56.211126Z"
    }
   },
   "outputs": [],
   "source": [
    "##excluding genres with small sample sizes\n",
    "counts = title_budget_exploded['genres'].value_counts()\n",
    "\n",
    "title_budget_exploded = title_budget_exploded[\n",
    "~title_budget_exploded['genres'].isin(counts[counts < 50].index)]"
   ]
  },
  {
   "cell_type": "code",
   "execution_count": null,
   "metadata": {
    "ExecuteTime": {
     "end_time": "2021-12-12T00:06:58.785736Z",
     "start_time": "2021-12-12T00:06:58.774591Z"
    }
   },
   "outputs": [],
   "source": []
  },
  {
   "cell_type": "code",
   "execution_count": 175,
   "metadata": {
    "ExecuteTime": {
     "end_time": "2021-12-12T00:21:57.033612Z",
     "start_time": "2021-12-12T00:21:57.000786Z"
    }
   },
   "outputs": [],
   "source": [
    "##grouping values by genre and month for graphing\n",
    "genres_ROI = title_budget_exploded.groupby(\n",
    "'genres').mean().sort_values('ROI', ascending=False)\n",
    "\n",
    "genres_profit=title_budget_exploded.groupby(\n",
    "'genres').mean().sort_values('profit', ascending=False)\n",
    "\n",
    "months_grouped = title_and_budget.groupby(\n",
    "'release_month').mean().sort_values('worldwide_gross', ascending=False)\n",
    "months_grouped = months_grouped.filter(\n",
    "['domestic_gross','worldwide_gross'], axis=1)\n"
   ]
  },
  {
   "cell_type": "code",
   "execution_count": 215,
   "metadata": {
    "ExecuteTime": {
     "end_time": "2021-12-13T19:25:12.848047Z",
     "start_time": "2021-12-13T19:25:12.840028Z"
    }
   },
   "outputs": [
    {
     "ename": "SyntaxError",
     "evalue": "invalid syntax (<ipython-input-215-bbb8f7e12e5b>, line 4)",
     "output_type": "error",
     "traceback": [
      "\u001b[0;36m  File \u001b[0;32m\"<ipython-input-215-bbb8f7e12e5b>\"\u001b[0;36m, line \u001b[0;32m4\u001b[0m\n\u001b[0;31m    sns.\u001b[0m\n\u001b[0m        ^\u001b[0m\n\u001b[0;31mSyntaxError\u001b[0m\u001b[0;31m:\u001b[0m invalid syntax\n"
     ]
    }
   ],
   "source": [
    "##plotting average domestic and worldwide gross by month\n",
    "sns.set_theme(style=\"darkgrid\")\n",
    "sns.lineplot(data=months_grouped, palette='viridis');\n"
   ]
  },
  {
   "cell_type": "code",
   "execution_count": 222,
   "metadata": {
    "ExecuteTime": {
     "end_time": "2021-12-13T19:31:58.587208Z",
     "start_time": "2021-12-13T19:31:58.374142Z"
    }
   },
   "outputs": [
    {
     "data": {
      "image/png": "[encoded data removed]",
      "text/plain": [
       "<Figure size 432x288 with 1 Axes>"
      ]
     },
     "metadata": {},
     "output_type": "display_data"
    }
   ],
   "source": [
    "##plotting average ROI of by genre\n",
    "sns.set_theme(style=\"darkgrid\")\n",
    "sns.barplot(\n",
    "y=genres_ROI.index, x=\"ROI\", \n",
    "palette='crest',\n",
    "data=genres_grouped, orient=\"h\").set(\n",
    "ylabel='Genres', title = \"ROI by Genre\");"
   ]
  },
  {
   "cell_type": "code",
   "execution_count": 226,
   "metadata": {
    "ExecuteTime": {
     "end_time": "2021-12-13T19:36:26.980302Z",
     "start_time": "2021-12-13T19:36:26.762608Z"
    }
   },
   "outputs": [
    {
     "data": {
      "image/png": "[encoded data removed]",
      "text/plain": [
       "<Figure size 432x288 with 1 Axes>"
      ]
     },
     "metadata": {},
     "output_type": "display_data"
    }
   ],
   "source": [
    "##plotting average profit(worldwide gross-production budget) by genre\n",
    "sns.set_style('darkgrid')\n",
    "sns.barplot(\n",
    "y=genres_profit.index, \n",
    "x=\"profit\",\n",
    "palette='crest',\n",
    "data=genres_profit, \n",
    "orient=\"h\").set(\n",
    "xlabel=\"Profit (100 Million)\",\n",
    "ylabel=\"Genre\",\n",
    "title=\"Profit by Genre\");"
   ]
  },
  {
   "cell_type": "code",
   "execution_count": 231,
   "metadata": {
    "ExecuteTime": {
     "end_time": "2021-12-13T19:40:53.140539Z",
     "start_time": "2021-12-13T19:40:52.993459Z"
    }
   },
   "outputs": [
    {
     "data": {
      "image/png": "[encoded data removed]",
      "text/plain": [
       "<Figure size 432x288 with 1 Axes>"
      ]
     },
     "metadata": {},
     "output_type": "display_data"
    }
   ],
   "source": [
    "##plotting top 15 directors by # of \"fresh\" ratings per \"rotten\" rating\n",
    "sns.set_style('darkgrid')\n",
    "sns.barplot(\n",
    "y=top_15_directors.index, \n",
    "x=\"fresh/rotten\", \n",
    "palette='crest', \n",
    "data=top_15_directors, \n",
    "orient=\"h\").set(\n",
    "ylabel=\"Director\",\n",
    "xlabel=\"# Fresh Reviews per Rotten review\",\n",
    "title=\"Most Liked Directors by Top RT Critics\");"
   ]
  },
  {
   "cell_type": "code",
   "execution_count": null,
   "metadata": {
    "ExecuteTime": {
     "end_time": "2021-12-06T22:16:59.966140Z",
     "start_time": "2021-12-06T22:16:59.952797Z"
    }
   },
   "outputs": [],
   "source": []
  },
  {
   "cell_type": "code",
   "execution_count": null,
   "metadata": {},
   "outputs": [],
   "source": []
  }
 ],
 "metadata": {
  "kernelspec": {
   "display_name": "Python 3",
   "language": "python",
   "name": "python3"
  },
  "language_info": {
   "codemirror_mode": {
    "name": "ipython",
    "version": 3
   },
   "file_extension": ".py",
   "mimetype": "text/x-python",
   "name": "python",
   "nbconvert_exporter": "python",
   "pygments_lexer": "ipython3",
   "version": "3.8.5"
  }
 },
 "nbformat": 4,
 "nbformat_minor": 2
}
